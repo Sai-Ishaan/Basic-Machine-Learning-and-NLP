{
 "cells": [
  {
   "cell_type": "code",
   "execution_count": 61,
   "id": "3df058df",
   "metadata": {},
   "outputs": [],
   "source": [
    "import pandas as pd\n",
    "import numpy as np\n",
    "import matplotlib.pyplot as plt\n",
    "from sklearn.model_selection import train_test_split\n",
    "from sklearn.preprocessing import StandardScaler, LabelEncoder\n",
    "from sklearn.metrics import roc_curve, roc_auc_score, confusion_matrix, classification_report\n",
    "from tensorflow.keras.models import Sequential\n",
    "from tensorflow.keras.layers import Dense\n",
    "import matplotlib.pyplot as plt\n",
    "import seaborn as sns"
   ]
  },
  {
   "cell_type": "code",
   "execution_count": 24,
   "id": "4a51ff58",
   "metadata": {},
   "outputs": [
    {
     "data": {
      "text/html": [
       "<div>\n",
       "<style scoped>\n",
       "    .dataframe tbody tr th:only-of-type {\n",
       "        vertical-align: middle;\n",
       "    }\n",
       "\n",
       "    .dataframe tbody tr th {\n",
       "        vertical-align: top;\n",
       "    }\n",
       "\n",
       "    .dataframe thead th {\n",
       "        text-align: right;\n",
       "    }\n",
       "</style>\n",
       "<table border=\"1\" class=\"dataframe\">\n",
       "  <thead>\n",
       "    <tr style=\"text-align: right;\">\n",
       "      <th></th>\n",
       "      <th>User ID</th>\n",
       "      <th>Gender</th>\n",
       "      <th>Age</th>\n",
       "      <th>EstimatedSalary</th>\n",
       "      <th>Purchased</th>\n",
       "    </tr>\n",
       "  </thead>\n",
       "  <tbody>\n",
       "    <tr>\n",
       "      <th>0</th>\n",
       "      <td>15624510</td>\n",
       "      <td>Male</td>\n",
       "      <td>19</td>\n",
       "      <td>19000</td>\n",
       "      <td>0</td>\n",
       "    </tr>\n",
       "    <tr>\n",
       "      <th>1</th>\n",
       "      <td>15810944</td>\n",
       "      <td>Male</td>\n",
       "      <td>35</td>\n",
       "      <td>20000</td>\n",
       "      <td>0</td>\n",
       "    </tr>\n",
       "    <tr>\n",
       "      <th>2</th>\n",
       "      <td>15668575</td>\n",
       "      <td>Female</td>\n",
       "      <td>26</td>\n",
       "      <td>43000</td>\n",
       "      <td>0</td>\n",
       "    </tr>\n",
       "    <tr>\n",
       "      <th>3</th>\n",
       "      <td>15603246</td>\n",
       "      <td>Female</td>\n",
       "      <td>27</td>\n",
       "      <td>57000</td>\n",
       "      <td>0</td>\n",
       "    </tr>\n",
       "    <tr>\n",
       "      <th>4</th>\n",
       "      <td>15804002</td>\n",
       "      <td>Male</td>\n",
       "      <td>19</td>\n",
       "      <td>76000</td>\n",
       "      <td>0</td>\n",
       "    </tr>\n",
       "    <tr>\n",
       "      <th>...</th>\n",
       "      <td>...</td>\n",
       "      <td>...</td>\n",
       "      <td>...</td>\n",
       "      <td>...</td>\n",
       "      <td>...</td>\n",
       "    </tr>\n",
       "    <tr>\n",
       "      <th>395</th>\n",
       "      <td>15691863</td>\n",
       "      <td>Female</td>\n",
       "      <td>46</td>\n",
       "      <td>41000</td>\n",
       "      <td>1</td>\n",
       "    </tr>\n",
       "    <tr>\n",
       "      <th>396</th>\n",
       "      <td>15706071</td>\n",
       "      <td>Male</td>\n",
       "      <td>51</td>\n",
       "      <td>23000</td>\n",
       "      <td>1</td>\n",
       "    </tr>\n",
       "    <tr>\n",
       "      <th>397</th>\n",
       "      <td>15654296</td>\n",
       "      <td>Female</td>\n",
       "      <td>50</td>\n",
       "      <td>20000</td>\n",
       "      <td>1</td>\n",
       "    </tr>\n",
       "    <tr>\n",
       "      <th>398</th>\n",
       "      <td>15755018</td>\n",
       "      <td>Male</td>\n",
       "      <td>36</td>\n",
       "      <td>33000</td>\n",
       "      <td>0</td>\n",
       "    </tr>\n",
       "    <tr>\n",
       "      <th>399</th>\n",
       "      <td>15594041</td>\n",
       "      <td>Female</td>\n",
       "      <td>49</td>\n",
       "      <td>36000</td>\n",
       "      <td>1</td>\n",
       "    </tr>\n",
       "  </tbody>\n",
       "</table>\n",
       "<p>400 rows × 5 columns</p>\n",
       "</div>"
      ],
      "text/plain": [
       "      User ID  Gender  Age  EstimatedSalary  Purchased\n",
       "0    15624510    Male   19            19000          0\n",
       "1    15810944    Male   35            20000          0\n",
       "2    15668575  Female   26            43000          0\n",
       "3    15603246  Female   27            57000          0\n",
       "4    15804002    Male   19            76000          0\n",
       "..        ...     ...  ...              ...        ...\n",
       "395  15691863  Female   46            41000          1\n",
       "396  15706071    Male   51            23000          1\n",
       "397  15654296  Female   50            20000          1\n",
       "398  15755018    Male   36            33000          0\n",
       "399  15594041  Female   49            36000          1\n",
       "\n",
       "[400 rows x 5 columns]"
      ]
     },
     "execution_count": 24,
     "metadata": {},
     "output_type": "execute_result"
    }
   ],
   "source": [
    "# Load the dataset (replace 'your_dataset.csv' with the path to your dataset)\n",
    "data = pd.read_csv(r\"C:\\Users\\admin\\Downloads\\Social_Network_Ads.csv\")\n",
    "data"
   ]
  },
  {
   "cell_type": "code",
   "execution_count": 25,
   "id": "ddb40580",
   "metadata": {},
   "outputs": [],
   "source": [
    "# Separate features and target variable\n",
    "X = data.drop(columns=[\"Purchased\"])\n",
    "y = data[\"Purchased\"]"
   ]
  },
  {
   "cell_type": "code",
   "execution_count": 26,
   "id": "84144a89",
   "metadata": {},
   "outputs": [],
   "source": [
    "# Preprocessing\n",
    "# Encoding categorical variables\n",
    "label_encoder = LabelEncoder()\n",
    "X[\"Gender\"] = label_encoder.fit_transform(X[\"Gender\"])"
   ]
  },
  {
   "cell_type": "code",
   "execution_count": 27,
   "id": "1e988efe",
   "metadata": {},
   "outputs": [],
   "source": [
    "# Splitting the dataset into training and testing sets\n",
    "X_train, X_test, y_train, y_test = train_test_split(X, y, test_size=0.2, random_state=42)"
   ]
  },
  {
   "cell_type": "code",
   "execution_count": 33,
   "id": "4de943e4",
   "metadata": {},
   "outputs": [],
   "source": [
    "# Scaling numerical features\n",
    "scaler = StandardScaler()\n",
    "X_train_scaled = scaler.fit_transform(X_train)\n",
    "X_test_scaled = scaler.transform(X_test)"
   ]
  },
  {
   "cell_type": "code",
   "execution_count": 34,
   "id": "f775f57e",
   "metadata": {},
   "outputs": [],
   "source": [
    "# Define the Classification model\n",
    "classification_model = Sequential([\n",
    "    Dense(64, activation='relu', input_shape=(X_train_scaled.shape[1],)),\n",
    "    Dense(64, activation='relu'),\n",
    "    Dense(1, activation='sigmoid')\n",
    "])"
   ]
  },
  {
   "cell_type": "code",
   "execution_count": 35,
   "id": "478a02a8",
   "metadata": {},
   "outputs": [],
   "source": [
    "# Compile the model\n",
    "classification_model.compile(optimizer='adam', loss='binary_crossentropy', metrics=['accuracy'])"
   ]
  },
  {
   "cell_type": "code",
   "execution_count": 50,
   "id": "a6615c51",
   "metadata": {},
   "outputs": [
    {
     "name": "stdout",
     "output_type": "stream",
     "text": [
      "Epoch 1/100\n",
      "10/10 [==============================] - 0s 6ms/step - loss: 0.1746 - accuracy: 0.9250 - val_loss: 0.2470 - val_accuracy: 0.9125\n",
      "Epoch 2/100\n",
      "10/10 [==============================] - 0s 3ms/step - loss: 0.1733 - accuracy: 0.9281 - val_loss: 0.2325 - val_accuracy: 0.9125\n",
      "Epoch 3/100\n",
      "10/10 [==============================] - 0s 3ms/step - loss: 0.1723 - accuracy: 0.9250 - val_loss: 0.2325 - val_accuracy: 0.9125\n",
      "Epoch 4/100\n",
      "10/10 [==============================] - 0s 3ms/step - loss: 0.1719 - accuracy: 0.9312 - val_loss: 0.2399 - val_accuracy: 0.9125\n",
      "Epoch 5/100\n",
      "10/10 [==============================] - 0s 3ms/step - loss: 0.1701 - accuracy: 0.9281 - val_loss: 0.2385 - val_accuracy: 0.9125\n",
      "Epoch 6/100\n",
      "10/10 [==============================] - 0s 3ms/step - loss: 0.1701 - accuracy: 0.9250 - val_loss: 0.2339 - val_accuracy: 0.9125\n",
      "Epoch 7/100\n",
      "10/10 [==============================] - 0s 3ms/step - loss: 0.1700 - accuracy: 0.9312 - val_loss: 0.2372 - val_accuracy: 0.9125\n",
      "Epoch 8/100\n",
      "10/10 [==============================] - 0s 3ms/step - loss: 0.1687 - accuracy: 0.9312 - val_loss: 0.2422 - val_accuracy: 0.9125\n",
      "Epoch 9/100\n",
      "10/10 [==============================] - 0s 3ms/step - loss: 0.1686 - accuracy: 0.9281 - val_loss: 0.2406 - val_accuracy: 0.9125\n",
      "Epoch 10/100\n",
      "10/10 [==============================] - 0s 3ms/step - loss: 0.1686 - accuracy: 0.9312 - val_loss: 0.2308 - val_accuracy: 0.9125\n",
      "Epoch 11/100\n",
      "10/10 [==============================] - 0s 3ms/step - loss: 0.1672 - accuracy: 0.9344 - val_loss: 0.2374 - val_accuracy: 0.9125\n",
      "Epoch 12/100\n",
      "10/10 [==============================] - 0s 3ms/step - loss: 0.1668 - accuracy: 0.9312 - val_loss: 0.2450 - val_accuracy: 0.9125\n",
      "Epoch 13/100\n",
      "10/10 [==============================] - 0s 4ms/step - loss: 0.1675 - accuracy: 0.9250 - val_loss: 0.2414 - val_accuracy: 0.9125\n",
      "Epoch 14/100\n",
      "10/10 [==============================] - 0s 3ms/step - loss: 0.1649 - accuracy: 0.9312 - val_loss: 0.2331 - val_accuracy: 0.9125\n",
      "Epoch 15/100\n",
      "10/10 [==============================] - 0s 3ms/step - loss: 0.1645 - accuracy: 0.9344 - val_loss: 0.2387 - val_accuracy: 0.9125\n",
      "Epoch 16/100\n",
      "10/10 [==============================] - 0s 4ms/step - loss: 0.1644 - accuracy: 0.9281 - val_loss: 0.2447 - val_accuracy: 0.9125\n",
      "Epoch 17/100\n",
      "10/10 [==============================] - 0s 4ms/step - loss: 0.1642 - accuracy: 0.9281 - val_loss: 0.2393 - val_accuracy: 0.9125\n",
      "Epoch 18/100\n",
      "10/10 [==============================] - 0s 3ms/step - loss: 0.1622 - accuracy: 0.9344 - val_loss: 0.2408 - val_accuracy: 0.9125\n",
      "Epoch 19/100\n",
      "10/10 [==============================] - 0s 3ms/step - loss: 0.1622 - accuracy: 0.9312 - val_loss: 0.2476 - val_accuracy: 0.9125\n",
      "Epoch 20/100\n",
      "10/10 [==============================] - 0s 4ms/step - loss: 0.1609 - accuracy: 0.9312 - val_loss: 0.2421 - val_accuracy: 0.9125\n",
      "Epoch 21/100\n",
      "10/10 [==============================] - 0s 3ms/step - loss: 0.1605 - accuracy: 0.9312 - val_loss: 0.2374 - val_accuracy: 0.9125\n",
      "Epoch 22/100\n",
      "10/10 [==============================] - 0s 3ms/step - loss: 0.1614 - accuracy: 0.9312 - val_loss: 0.2392 - val_accuracy: 0.9125\n",
      "Epoch 23/100\n",
      "10/10 [==============================] - 0s 3ms/step - loss: 0.1611 - accuracy: 0.9312 - val_loss: 0.2514 - val_accuracy: 0.9125\n",
      "Epoch 24/100\n",
      "10/10 [==============================] - 0s 4ms/step - loss: 0.1597 - accuracy: 0.9312 - val_loss: 0.2449 - val_accuracy: 0.9125\n",
      "Epoch 25/100\n",
      "10/10 [==============================] - 0s 4ms/step - loss: 0.1609 - accuracy: 0.9312 - val_loss: 0.2488 - val_accuracy: 0.9125\n",
      "Epoch 26/100\n",
      "10/10 [==============================] - 0s 4ms/step - loss: 0.1576 - accuracy: 0.9312 - val_loss: 0.2365 - val_accuracy: 0.9125\n",
      "Epoch 27/100\n",
      "10/10 [==============================] - 0s 3ms/step - loss: 0.1587 - accuracy: 0.9281 - val_loss: 0.2417 - val_accuracy: 0.9125\n",
      "Epoch 28/100\n",
      "10/10 [==============================] - 0s 3ms/step - loss: 0.1563 - accuracy: 0.9312 - val_loss: 0.2468 - val_accuracy: 0.9125\n",
      "Epoch 29/100\n",
      "10/10 [==============================] - 0s 3ms/step - loss: 0.1556 - accuracy: 0.9312 - val_loss: 0.2405 - val_accuracy: 0.9125\n",
      "Epoch 30/100\n",
      "10/10 [==============================] - 0s 3ms/step - loss: 0.1559 - accuracy: 0.9344 - val_loss: 0.2451 - val_accuracy: 0.9125\n",
      "Epoch 31/100\n",
      "10/10 [==============================] - 0s 3ms/step - loss: 0.1559 - accuracy: 0.9281 - val_loss: 0.2464 - val_accuracy: 0.9125\n",
      "Epoch 32/100\n",
      "10/10 [==============================] - 0s 3ms/step - loss: 0.1539 - accuracy: 0.9312 - val_loss: 0.2429 - val_accuracy: 0.9125\n",
      "Epoch 33/100\n",
      "10/10 [==============================] - 0s 3ms/step - loss: 0.1565 - accuracy: 0.9250 - val_loss: 0.2417 - val_accuracy: 0.9125\n",
      "Epoch 34/100\n",
      "10/10 [==============================] - 0s 3ms/step - loss: 0.1530 - accuracy: 0.9312 - val_loss: 0.2464 - val_accuracy: 0.9000\n",
      "Epoch 35/100\n",
      "10/10 [==============================] - 0s 3ms/step - loss: 0.1530 - accuracy: 0.9312 - val_loss: 0.2470 - val_accuracy: 0.9125\n",
      "Epoch 36/100\n",
      "10/10 [==============================] - 0s 3ms/step - loss: 0.1528 - accuracy: 0.9344 - val_loss: 0.2469 - val_accuracy: 0.9125\n",
      "Epoch 37/100\n",
      "10/10 [==============================] - 0s 3ms/step - loss: 0.1518 - accuracy: 0.9312 - val_loss: 0.2424 - val_accuracy: 0.9125\n",
      "Epoch 38/100\n",
      "10/10 [==============================] - 0s 3ms/step - loss: 0.1511 - accuracy: 0.9312 - val_loss: 0.2527 - val_accuracy: 0.9125\n",
      "Epoch 39/100\n",
      "10/10 [==============================] - 0s 3ms/step - loss: 0.1507 - accuracy: 0.9344 - val_loss: 0.2477 - val_accuracy: 0.9125\n",
      "Epoch 40/100\n",
      "10/10 [==============================] - 0s 3ms/step - loss: 0.1508 - accuracy: 0.9312 - val_loss: 0.2506 - val_accuracy: 0.9125\n",
      "Epoch 41/100\n",
      "10/10 [==============================] - 0s 3ms/step - loss: 0.1495 - accuracy: 0.9312 - val_loss: 0.2412 - val_accuracy: 0.9125\n",
      "Epoch 42/100\n",
      "10/10 [==============================] - 0s 3ms/step - loss: 0.1494 - accuracy: 0.9312 - val_loss: 0.2531 - val_accuracy: 0.9125\n",
      "Epoch 43/100\n",
      "10/10 [==============================] - 0s 3ms/step - loss: 0.1488 - accuracy: 0.9312 - val_loss: 0.2575 - val_accuracy: 0.9000\n",
      "Epoch 44/100\n",
      "10/10 [==============================] - 0s 3ms/step - loss: 0.1466 - accuracy: 0.9344 - val_loss: 0.2540 - val_accuracy: 0.9125\n",
      "Epoch 45/100\n",
      "10/10 [==============================] - 0s 4ms/step - loss: 0.1498 - accuracy: 0.9375 - val_loss: 0.2436 - val_accuracy: 0.9000\n",
      "Epoch 46/100\n",
      "10/10 [==============================] - 0s 3ms/step - loss: 0.1481 - accuracy: 0.9312 - val_loss: 0.2546 - val_accuracy: 0.9125\n",
      "Epoch 47/100\n",
      "10/10 [==============================] - 0s 3ms/step - loss: 0.1461 - accuracy: 0.9312 - val_loss: 0.2530 - val_accuracy: 0.9000\n",
      "Epoch 48/100\n",
      "10/10 [==============================] - 0s 3ms/step - loss: 0.1456 - accuracy: 0.9375 - val_loss: 0.2488 - val_accuracy: 0.9000\n",
      "Epoch 49/100\n",
      "10/10 [==============================] - 0s 3ms/step - loss: 0.1455 - accuracy: 0.9344 - val_loss: 0.2423 - val_accuracy: 0.9000\n",
      "Epoch 50/100\n",
      "10/10 [==============================] - 0s 3ms/step - loss: 0.1454 - accuracy: 0.9344 - val_loss: 0.2579 - val_accuracy: 0.9000\n",
      "Epoch 51/100\n",
      "10/10 [==============================] - 0s 3ms/step - loss: 0.1446 - accuracy: 0.9312 - val_loss: 0.2560 - val_accuracy: 0.8875\n",
      "Epoch 52/100\n",
      "10/10 [==============================] - 0s 3ms/step - loss: 0.1444 - accuracy: 0.9375 - val_loss: 0.2487 - val_accuracy: 0.9000\n",
      "Epoch 53/100\n",
      "10/10 [==============================] - 0s 3ms/step - loss: 0.1416 - accuracy: 0.9344 - val_loss: 0.2465 - val_accuracy: 0.9000\n",
      "Epoch 54/100\n",
      "10/10 [==============================] - 0s 3ms/step - loss: 0.1456 - accuracy: 0.9250 - val_loss: 0.2563 - val_accuracy: 0.9000\n",
      "Epoch 55/100\n",
      "10/10 [==============================] - 0s 3ms/step - loss: 0.1465 - accuracy: 0.9438 - val_loss: 0.2482 - val_accuracy: 0.9000\n",
      "Epoch 56/100\n",
      "10/10 [==============================] - 0s 3ms/step - loss: 0.1430 - accuracy: 0.9312 - val_loss: 0.2524 - val_accuracy: 0.8875\n",
      "Epoch 57/100\n",
      "10/10 [==============================] - 0s 3ms/step - loss: 0.1436 - accuracy: 0.9281 - val_loss: 0.2576 - val_accuracy: 0.9000\n",
      "Epoch 58/100\n",
      "10/10 [==============================] - 0s 3ms/step - loss: 0.1408 - accuracy: 0.9344 - val_loss: 0.2572 - val_accuracy: 0.8875\n",
      "Epoch 59/100\n",
      "10/10 [==============================] - 0s 3ms/step - loss: 0.1411 - accuracy: 0.9375 - val_loss: 0.2519 - val_accuracy: 0.9000\n",
      "Epoch 60/100\n",
      "10/10 [==============================] - 0s 3ms/step - loss: 0.1396 - accuracy: 0.9312 - val_loss: 0.2531 - val_accuracy: 0.9000\n",
      "Epoch 61/100\n",
      "10/10 [==============================] - 0s 3ms/step - loss: 0.1394 - accuracy: 0.9344 - val_loss: 0.2492 - val_accuracy: 0.9000\n",
      "Epoch 62/100\n",
      "10/10 [==============================] - 0s 3ms/step - loss: 0.1405 - accuracy: 0.9312 - val_loss: 0.2472 - val_accuracy: 0.9000\n",
      "Epoch 63/100\n",
      "10/10 [==============================] - 0s 3ms/step - loss: 0.1381 - accuracy: 0.9375 - val_loss: 0.2486 - val_accuracy: 0.8875\n",
      "Epoch 64/100\n",
      "10/10 [==============================] - 0s 3ms/step - loss: 0.1375 - accuracy: 0.9312 - val_loss: 0.2521 - val_accuracy: 0.9000\n",
      "Epoch 65/100\n",
      "10/10 [==============================] - 0s 3ms/step - loss: 0.1370 - accuracy: 0.9406 - val_loss: 0.2524 - val_accuracy: 0.9000\n",
      "Epoch 66/100\n",
      "10/10 [==============================] - 0s 3ms/step - loss: 0.1350 - accuracy: 0.9375 - val_loss: 0.2580 - val_accuracy: 0.8875\n",
      "Epoch 67/100\n",
      "10/10 [==============================] - 0s 3ms/step - loss: 0.1386 - accuracy: 0.9312 - val_loss: 0.2566 - val_accuracy: 0.9000\n",
      "Epoch 68/100\n",
      "10/10 [==============================] - 0s 3ms/step - loss: 0.1368 - accuracy: 0.9312 - val_loss: 0.2633 - val_accuracy: 0.9000\n",
      "Epoch 69/100\n",
      "10/10 [==============================] - 0s 3ms/step - loss: 0.1362 - accuracy: 0.9406 - val_loss: 0.2532 - val_accuracy: 0.9000\n",
      "Epoch 70/100\n",
      "10/10 [==============================] - 0s 3ms/step - loss: 0.1361 - accuracy: 0.9312 - val_loss: 0.2485 - val_accuracy: 0.8875\n",
      "Epoch 71/100\n",
      "10/10 [==============================] - 0s 3ms/step - loss: 0.1371 - accuracy: 0.9344 - val_loss: 0.2618 - val_accuracy: 0.9000\n",
      "Epoch 72/100\n",
      "10/10 [==============================] - 0s 3ms/step - loss: 0.1361 - accuracy: 0.9375 - val_loss: 0.2473 - val_accuracy: 0.9000\n",
      "Epoch 73/100\n",
      "10/10 [==============================] - 0s 4ms/step - loss: 0.1401 - accuracy: 0.9312 - val_loss: 0.2543 - val_accuracy: 0.8875\n",
      "Epoch 74/100\n",
      "10/10 [==============================] - 0s 3ms/step - loss: 0.1336 - accuracy: 0.9312 - val_loss: 0.2498 - val_accuracy: 0.9000\n",
      "Epoch 75/100\n",
      "10/10 [==============================] - 0s 3ms/step - loss: 0.1351 - accuracy: 0.9375 - val_loss: 0.2475 - val_accuracy: 0.9000\n",
      "Epoch 76/100\n",
      "10/10 [==============================] - 0s 3ms/step - loss: 0.1359 - accuracy: 0.9406 - val_loss: 0.2604 - val_accuracy: 0.9000\n",
      "Epoch 77/100\n",
      "10/10 [==============================] - 0s 3ms/step - loss: 0.1328 - accuracy: 0.9312 - val_loss: 0.2513 - val_accuracy: 0.8875\n",
      "Epoch 78/100\n",
      "10/10 [==============================] - 0s 3ms/step - loss: 0.1320 - accuracy: 0.9406 - val_loss: 0.2469 - val_accuracy: 0.9000\n",
      "Epoch 79/100\n",
      "10/10 [==============================] - 0s 3ms/step - loss: 0.1313 - accuracy: 0.9469 - val_loss: 0.2562 - val_accuracy: 0.8875\n",
      "Epoch 80/100\n",
      "10/10 [==============================] - 0s 3ms/step - loss: 0.1297 - accuracy: 0.9312 - val_loss: 0.2563 - val_accuracy: 0.9000\n",
      "Epoch 81/100\n",
      "10/10 [==============================] - 0s 3ms/step - loss: 0.1304 - accuracy: 0.9344 - val_loss: 0.2644 - val_accuracy: 0.8875\n",
      "Epoch 82/100\n",
      "10/10 [==============================] - 0s 3ms/step - loss: 0.1294 - accuracy: 0.9406 - val_loss: 0.2534 - val_accuracy: 0.9000\n",
      "Epoch 83/100\n",
      "10/10 [==============================] - 0s 3ms/step - loss: 0.1278 - accuracy: 0.9375 - val_loss: 0.2436 - val_accuracy: 0.8875\n",
      "Epoch 84/100\n",
      "10/10 [==============================] - 0s 3ms/step - loss: 0.1266 - accuracy: 0.9375 - val_loss: 0.2470 - val_accuracy: 0.9000\n",
      "Epoch 85/100\n",
      "10/10 [==============================] - 0s 3ms/step - loss: 0.1263 - accuracy: 0.9406 - val_loss: 0.2459 - val_accuracy: 0.8875\n",
      "Epoch 86/100\n",
      "10/10 [==============================] - 0s 4ms/step - loss: 0.1251 - accuracy: 0.9375 - val_loss: 0.2525 - val_accuracy: 0.9000\n",
      "Epoch 87/100\n",
      "10/10 [==============================] - 0s 3ms/step - loss: 0.1263 - accuracy: 0.9375 - val_loss: 0.2660 - val_accuracy: 0.8875\n",
      "Epoch 88/100\n",
      "10/10 [==============================] - 0s 3ms/step - loss: 0.1253 - accuracy: 0.9406 - val_loss: 0.2609 - val_accuracy: 0.8875\n",
      "Epoch 89/100\n",
      "10/10 [==============================] - 0s 3ms/step - loss: 0.1248 - accuracy: 0.9375 - val_loss: 0.2523 - val_accuracy: 0.9000\n",
      "Epoch 90/100\n",
      "10/10 [==============================] - 0s 3ms/step - loss: 0.1241 - accuracy: 0.9406 - val_loss: 0.2486 - val_accuracy: 0.9000\n",
      "Epoch 91/100\n",
      "10/10 [==============================] - 0s 3ms/step - loss: 0.1239 - accuracy: 0.9406 - val_loss: 0.2539 - val_accuracy: 0.9000\n",
      "Epoch 92/100\n",
      "10/10 [==============================] - 0s 3ms/step - loss: 0.1237 - accuracy: 0.9406 - val_loss: 0.2566 - val_accuracy: 0.9000\n",
      "Epoch 93/100\n",
      "10/10 [==============================] - 0s 3ms/step - loss: 0.1233 - accuracy: 0.9406 - val_loss: 0.2633 - val_accuracy: 0.8875\n",
      "Epoch 94/100\n",
      "10/10 [==============================] - 0s 3ms/step - loss: 0.1227 - accuracy: 0.9406 - val_loss: 0.2491 - val_accuracy: 0.8875\n",
      "Epoch 95/100\n",
      "10/10 [==============================] - 0s 3ms/step - loss: 0.1229 - accuracy: 0.9438 - val_loss: 0.2594 - val_accuracy: 0.8875\n",
      "Epoch 96/100\n",
      "10/10 [==============================] - 0s 3ms/step - loss: 0.1226 - accuracy: 0.9438 - val_loss: 0.2481 - val_accuracy: 0.9000\n",
      "Epoch 97/100\n",
      "10/10 [==============================] - 0s 3ms/step - loss: 0.1214 - accuracy: 0.9406 - val_loss: 0.2510 - val_accuracy: 0.8875\n",
      "Epoch 98/100\n",
      "10/10 [==============================] - 0s 3ms/step - loss: 0.1222 - accuracy: 0.9438 - val_loss: 0.2655 - val_accuracy: 0.8875\n",
      "Epoch 99/100\n",
      "10/10 [==============================] - 0s 3ms/step - loss: 0.1222 - accuracy: 0.9531 - val_loss: 0.2569 - val_accuracy: 0.8750\n",
      "Epoch 100/100\n",
      "10/10 [==============================] - 0s 3ms/step - loss: 0.1212 - accuracy: 0.9438 - val_loss: 0.2551 - val_accuracy: 0.8875\n"
     ]
    }
   ],
   "source": [
    "## Train the model\n",
    "history = model.fit(X_train_scaled, y_train, epochs=100, batch_size=32, verbose=1, validation_data=(X_test_scaled, y_test))"
   ]
  },
  {
   "cell_type": "code",
   "execution_count": 51,
   "id": "39b680c3",
   "metadata": {
    "scrolled": true
   },
   "outputs": [
    {
     "name": "stdout",
     "output_type": "stream",
     "text": [
      "3/3 [==============================] - 0s 2ms/step - loss: 0.2551 - accuracy: 0.8875\n",
      "Classification Loss: 0.255098819732666\n",
      "Classification Accuracy: 0.887499988079071\n"
     ]
    }
   ],
   "source": [
    "# Evaluate the model on the testing set\n",
    "loss, accuracy = model.evaluate(X_test_scaled, y_test)\n",
    "print(\"Classification Loss:\", loss)\n",
    "print(\"Classification Accuracy:\", accuracy)"
   ]
  },
  {
   "cell_type": "code",
   "execution_count": 52,
   "id": "4f871efc",
   "metadata": {},
   "outputs": [
    {
     "name": "stdout",
     "output_type": "stream",
     "text": [
      "3/3 [==============================] - 0s 999us/step\n"
     ]
    },
    {
     "data": {
      "image/png": "[encoded data removed]",
      "text/plain": [
       "<Figure size 576x432 with 1 Axes>"
      ]
     },
     "metadata": {
      "needs_background": "light"
     },
     "output_type": "display_data"
    }
   ],
   "source": [
    "# Generate ROC curve\n",
    "y_pred_prob = model.predict(X_test_scaled).ravel()\n",
    "fpr, tpr, thresholds = roc_curve(y_test, y_pred_prob)\n",
    "plt.figure(figsize=(8, 6))\n",
    "plt.plot(fpr, tpr, color='blue', lw=2)\n",
    "plt.plot([0, 1], [0, 1], color='gray', linestyle='--')\n",
    "plt.xlabel('False Positive Rate')\n",
    "plt.ylabel('True Positive Rate')\n",
    "plt.title('ROC Curve')\n",
    "plt.show()"
   ]
  },
  {
   "cell_type": "code",
   "execution_count": 53,
   "id": "ac964978",
   "metadata": {},
   "outputs": [
    {
     "name": "stdout",
     "output_type": "stream",
     "text": [
      "AUC Score: 0.9581043956043955\n"
     ]
    }
   ],
   "source": [
    "# Compute AUC score\n",
    "auc_score = roc_auc_score(y_test, y_pred_prob)\n",
    "print(\"AUC Score:\", auc_score)"
   ]
  },
  {
   "cell_type": "code",
   "execution_count": 63,
   "id": "e63bbc5f",
   "metadata": {},
   "outputs": [
    {
     "name": "stdout",
     "output_type": "stream",
     "text": [
      "Confusion Matrix:\n",
      "[[47  5]\n",
      " [ 4 24]]\n",
      "\n",
      "Classification Report:\n",
      "              precision    recall  f1-score   support\n",
      "\n",
      "           0       0.92      0.90      0.91        52\n",
      "           1       0.83      0.86      0.84        28\n",
      "\n",
      "    accuracy                           0.89        80\n",
      "   macro avg       0.87      0.88      0.88        80\n",
      "weighted avg       0.89      0.89      0.89        80\n",
      "\n"
     ]
    }
   ],
   "source": [
    "# Generate confusion matrix\n",
    "y_pred = np.round(y_pred_prob)\n",
    "conf_matrix = confusion_matrix(y_test, y_pred)\n",
    "print(\"Confusion Matrix:\")\n",
    "print(conf_matrix)\n",
    "\n",
    "# Generate classification report\n",
    "print(\"\")\n",
    "print(\"Classification Report:\")\n",
    "print(classification_report(y_test, y_pred))"
   ]
  },
  {
   "cell_type": "code",
   "execution_count": 64,
   "id": "e8929b92",
   "metadata": {},
   "outputs": [
    {
     "data": {
      "text/plain": [
       "<Figure size 864x432 with 0 Axes>"
      ]
     },
     "execution_count": 64,
     "metadata": {},
     "output_type": "execute_result"
    },
    {
     "data": {
      "text/plain": [
       "<Figure size 864x432 with 0 Axes>"
      ]
     },
     "metadata": {},
     "output_type": "display_data"
    }
   ],
   "source": [
    "# Plot training and testing accuracy and loss\n",
    "plt.figure(figsize=(12, 6))"
   ]
  },
  {
   "cell_type": "code",
   "execution_count": 65,
   "id": "62f492b6",
   "metadata": {},
   "outputs": [
    {
     "data": {
      "text/plain": [
       "<matplotlib.legend.Legend at 0x1841bb6a370>"
      ]
     },
     "execution_count": 65,
     "metadata": {},
     "output_type": "execute_result"
    },
    {
     "data": {
      "image/png": "[encoded data removed]",
      "text/plain": [
       "<Figure size 432x288 with 1 Axes>"
      ]
     },
     "metadata": {
      "needs_background": "light"
     },
     "output_type": "display_data"
    }
   ],
   "source": [
    "# Plot training accuracy\n",
    "plt.subplot(1, 2, 1)\n",
    "plt.plot(history.history['accuracy'], label='Training Accuracy', color='blue')\n",
    "plt.plot(history.history['val_accuracy'], label='Testing Accuracy', color='orange')\n",
    "plt.title('Training and Testing Accuracy')\n",
    "plt.xlabel('Epochs')\n",
    "plt.ylabel('Accuracy')\n",
    "plt.legend()"
   ]
  },
  {
   "cell_type": "code",
   "execution_count": 66,
   "id": "71441d08",
   "metadata": {},
   "outputs": [
    {
     "data": {
      "text/plain": [
       "<matplotlib.legend.Legend at 0x1841bbda940>"
      ]
     },
     "execution_count": 66,
     "metadata": {},
     "output_type": "execute_result"
    },
    {
     "data": {
      "image/png": "[encoded data removed]",
      "text/plain": [
       "<Figure size 432x288 with 1 Axes>"
      ]
     },
     "metadata": {
      "needs_background": "light"
     },
     "output_type": "display_data"
    }
   ],
   "source": [
    "# Plot training loss\n",
    "plt.subplot(1, 2, 2)\n",
    "plt.plot(history.history['loss'], label='Training Loss', color='blue')\n",
    "plt.plot(history.history['val_loss'], label='Testing Loss', color='orange')\n",
    "plt.title('Training and Testing Loss')\n",
    "plt.xlabel('Epochs')\n",
    "plt.ylabel('Loss')\n",
    "plt.legend()"
   ]
  },
  {
   "cell_type": "code",
   "execution_count": 67,
   "id": "fa320566",
   "metadata": {},
   "outputs": [
    {
     "data": {
      "text/plain": [
       "<Figure size 432x288 with 0 Axes>"
      ]
     },
     "metadata": {},
     "output_type": "display_data"
    }
   ],
   "source": [
    "plt.tight_layout()\n",
    "plt.show()"
   ]
  }
 ],
 "metadata": {
  "kernelspec": {
   "display_name": "Python 3",
   "language": "python",
   "name": "python3"
  },
  "language_info": {
   "codemirror_mode": {
    "name": "ipython",
    "version": 3
   },
   "file_extension": ".py",
   "mimetype": "text/x-python",
   "name": "python",
   "nbconvert_exporter": "python",
   "pygments_lexer": "ipython3",
   "version": "3.8.8"
  }
 },
 "nbformat": 4,
 "nbformat_minor": 5
}
