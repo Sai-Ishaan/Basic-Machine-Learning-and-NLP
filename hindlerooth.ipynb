{
 "cells": [
  {
   "cell_type": "code",
   "execution_count": 16,
   "id": "1a58464b",
   "metadata": {},
   "outputs": [],
   "source": [
    "file=open('hindle.txt','r')\n",
    "string1=\"\"\n",
    "for i in file:\n",
    "    i=i.replace(\"\\n\",\"\")\n",
    "    string1=string1+i\n"
   ]
  },
  {
   "cell_type": "code",
   "execution_count": 17,
   "id": "5c89a34b",
   "metadata": {},
   "outputs": [],
   "source": [
    "import nltk"
   ]
  },
  {
   "cell_type": "code",
   "execution_count": 7,
   "id": "cd0f0886",
   "metadata": {},
   "outputs": [
    {
     "name": "stderr",
     "output_type": "stream",
     "text": [
      "[nltk_data] Downloading package averaged_perceptron_tagger to\n",
      "[nltk_data]     C:\\Users\\admin\\AppData\\Roaming\\nltk_data...\n",
      "[nltk_data]   Package averaged_perceptron_tagger is already up-to-\n",
      "[nltk_data]       date!\n"
     ]
    },
    {
     "data": {
      "text/plain": [
       "True"
      ]
     },
     "execution_count": 7,
     "metadata": {},
     "output_type": "execute_result"
    }
   ],
   "source": [
    "nltk.download('averaged_perceptron_tagger')\n"
   ]
  },
  {
   "cell_type": "code",
   "execution_count": null,
   "id": "83932843",
   "metadata": {},
   "outputs": [],
   "source": []
  },
  {
   "cell_type": "code",
   "execution_count": 31,
   "id": "65b5bc1e",
   "metadata": {},
   "outputs": [
    {
     "ename": "SyntaxError",
     "evalue": "invalid syntax (<ipython-input-31-287a291abfe6>, line 29)",
     "output_type": "error",
     "traceback": [
      "\u001b[1;36m  File \u001b[1;32m\"<ipython-input-31-287a291abfe6>\"\u001b[1;36m, line \u001b[1;32m29\u001b[0m\n\u001b[1;33m    dict1[noun]=lis\u001b[0m\n\u001b[1;37m    ^\u001b[0m\n\u001b[1;31mSyntaxError\u001b[0m\u001b[1;31m:\u001b[0m invalid syntax\n"
     ]
    }
   ],
   "source": [
    "import nltk\n",
    "text =string1\n",
    "lower_case = text.lower()\n",
    "tokens = nltk.word_tokenize(lower_case)\n",
    "tags = nltk.pos_tag(tokens)\n",
    "nouns=[]\n",
    "verbs=[]\n",
    "preposition=[]\n",
    "for i in range(0,len(tags)):\n",
    "    if(tags[i][1]=='NN'):\n",
    "        if tags[i][0] not in nouns:\n",
    "            nouns.append(tags[i][0])\n",
    "    elif(tags[i][1]=='VBN' or tags[i][1]=='VBP'):\n",
    "        if tags[i][0] not in verbs:\n",
    "            verbs.append(tags[i][0])\n",
    "    elif(tags[i][1]=='IN'):\n",
    "        if tags[i][0] not in preposition:\n",
    "            preposition.append(tags[i][0])\n",
    "print(nouns)\n",
    "print(verbs)\n",
    "print(preposition)\n",
    "verb=input(\"enter verb\")\n",
    "noun=input(\"enter noun\")\n",
    "preposition=input(\"enter preposition\")\n",
    "dict1={}\n",
    "lis=[]\n",
    "lis.append(string1.count(noun))\n",
    "lis.append(string1.count(noun+\" \"+preposition)\n",
    "dict1[noun]=lis\n",
    "lis2=[]\n",
    "lis2.append(string1.count(verb))\n",
    "lis2.append(string1.count(verb+\" \"+preposition)\n",
    "dict1[verb]=lis2\n",
    "print(dictio)"
   ]
  },
  {
   "cell_type": "code",
   "execution_count": 29,
   "id": "b4c844fa",
   "metadata": {},
   "outputs": [],
   "source": [
    "dict1={}\n",
    "lis1=[1,2,3]\n",
    "noun=\"hi\"\n",
    "dict1[noun]=lis1"
   ]
  },
  {
   "cell_type": "code",
   "execution_count": 30,
   "id": "82a35ddb",
   "metadata": {},
   "outputs": [
    {
     "name": "stdout",
     "output_type": "stream",
     "text": [
      "{'hi': [1, 2, 3]}\n"
     ]
    }
   ],
   "source": [
    "print(dict1)"
   ]
  },
  {
   "cell_type": "code",
   "execution_count": null,
   "id": "0fd539a2",
   "metadata": {},
   "outputs": [],
   "source": []
  }
 ],
 "metadata": {
  "kernelspec": {
   "display_name": "Python 3",
   "language": "python",
   "name": "python3"
  },
  "language_info": {
   "codemirror_mode": {
    "name": "ipython",
    "version": 3
   },
   "file_extension": ".py",
   "mimetype": "text/x-python",
   "name": "python",
   "nbconvert_exporter": "python",
   "pygments_lexer": "ipython3",
   "version": "3.8.8"
  }
 },
 "nbformat": 4,
 "nbformat_minor": 5
}
