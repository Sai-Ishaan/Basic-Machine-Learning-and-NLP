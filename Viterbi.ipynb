{
  "cells": [
    {
      "cell_type": "code",
      "execution_count": null,
      "id": "229a68af",
      "metadata": {
        "id": "229a68af",
        "outputId": "5ab1b98a-1ba9-4635-f407-0e811c06a86d"
      },
      "outputs": [
        {
          "name": "stdout",
          "output_type": "stream",
          "text": [
            "Number of word to get input : 2\n",
            "Enter the word : she\n",
            "Enter she-start : 0\n",
            "Enter she-NP : .4\n",
            "Enter she-VP : .3\n",
            "Enter the word : is\n",
            "Enter is-start : 0\n",
            "Enter is-NP : .6\n",
            "Enter is-VP : .7\n",
            "{'she-start': 0.0, 'she-NP': 0.4, 'she-VP': 0.3, 'is-start': 0.0, 'is-NP': 0.6, 'is-VP': 0.7}\n"
          ]
        }
      ],
      "source": [
        "x = int(input(\"Number of word to get input : \"))\n",
        "hash_bag = {}\n",
        "words = []\n",
        "\n",
        "for i in range(x):\n",
        "    val = 0 \n",
        "    inp = input(\"Enter the word : \")\n",
        "    words.append(inp)\n",
        "    printer = [inp+ \"-\" + \"start\",inp+ \"-\" + \"NP\",inp+ \"-\" + \"VP\"]\n",
        "    for i in printer:\n",
        "        val = float(input(\"Enter \" + i +\" : \"))\n",
        "        hash_bag[i] = val\n",
        "\n",
        "print(hash_bag)"
      ]
    },
    {
      "cell_type": "code",
      "execution_count": null,
      "id": "b8d4312f",
      "metadata": {
        "id": "b8d4312f",
        "outputId": "9b927d9f-b708-4ec2-d9a4-ccfff4e9199c"
      },
      "outputs": [
        {
          "name": "stdout",
          "output_type": "stream",
          "text": [
            "Enter start-NP : .7\n",
            "Enter start-VP : .3\n",
            "Enter start-end : 0\n",
            "Enter NP-NP : .7\n",
            "Enter NP-VP : .2\n",
            "Enter NP-end : .1\n",
            "Enter VP-NP : .3\n",
            "Enter VP-VP : .6\n",
            "Enter VP-end : .1\n"
          ]
        }
      ],
      "source": [
        "lister1 = ['start','NP','VP']\n",
        "lister2 = ['NP','VP','end']\n",
        "\n",
        "\n",
        "for i in lister1 :\n",
        "    for j in lister2 :\n",
        "        stry = i +\"-\"+j\n",
        "        hash_bag[stry] = float(input(\"Enter \" + stry + \" : \"))"
      ]
    },
    {
      "cell_type": "code",
      "execution_count": null,
      "id": "a03505dd",
      "metadata": {
        "id": "a03505dd",
        "outputId": "e65dbcba-9312-4332-98c9-85527eb0bc3a"
      },
      "outputs": [
        {
          "data": {
            "text/plain": [
              "{'she-start': 0.0,\n",
              " 'she-NP': 0.4,\n",
              " 'she-VP': 0.3,\n",
              " 'is-start': 0.0,\n",
              " 'is-NP': 0.6,\n",
              " 'is-VP': 0.7,\n",
              " 'start-NP': 0.7,\n",
              " 'start-VP': 0.3,\n",
              " 'start-end': 0.0,\n",
              " 'NP-NP': 0.7,\n",
              " 'NP-VP': 0.2,\n",
              " 'NP-end': 0.1,\n",
              " 'VP-NP': 0.3,\n",
              " 'VP-VP': 0.6,\n",
              " 'VP-end': 0.1}"
            ]
          },
          "execution_count": 6,
          "metadata": {},
          "output_type": "execute_result"
        }
      ],
      "source": [
        "hash_bag"
      ]
    },
    {
      "cell_type": "code",
      "execution_count": null,
      "id": "7777e1c7",
      "metadata": {
        "id": "7777e1c7"
      },
      "outputs": [],
      "source": [
        "class Dnode :\n",
        "    def __init__(self,name,prev1,prev2):\n",
        "        self.name = name\n",
        "        self.prev1 = prev1\n",
        "        self.prev2 = prev2\n",
        "        self.preferred = None\n",
        "    \n",
        "    def calculateValue(self,dicty,word):\n",
        "        self.hit = 1 if self.name == \"start\" or self.name == \"end\" else dicty[word+\"-\"+self.name]\n",
        "        if self.name == \"start\":\n",
        "            # Assume start\n",
        "            self.state_prob  = 1\n",
        "        elif self.prev1.name == \"start\":\n",
        "            self.state_prob = dicty[self.prev1.name+\"-\"+self.name] \n",
        "            self.preferred = self.prev1\n",
        "        else:\n",
        "            # prev1\n",
        "            prev1_prob = dicty[self.prev1.name+\"-\"+self.name] * self.prev1.hit * self.prev1.state_prob\n",
        "            # prev1\n",
        "            prev2_prob = dicty[self.prev2.name+\"-\"+self.name] * self.prev2.hit * self.prev2.state_prob\n",
        "            if prev1_prob > prev2_prob:\n",
        "                self.state_prob = prev1_prob\n",
        "                self.preferred = self.prev1\n",
        "            else:\n",
        "                self.state_prob = prev2_prob\n",
        "                self.preferred = self.prev2"
      ]
    },
    {
      "cell_type": "code",
      "execution_count": null,
      "id": "c1d9bf98",
      "metadata": {
        "id": "c1d9bf98",
        "outputId": "6ec4e1b8-2592-4f32-cf2d-eac3fc95a9cc"
      },
      "outputs": [
        {
          "name": "stdout",
          "output_type": "stream",
          "text": [
            "Enter no of words to find probs3\n",
            "Enter word 0 : she\n",
            "Enter word 1 : is\n",
            "Enter word 2 : is\n"
          ]
        }
      ],
      "source": [
        "x = int(input(\"Enter no of words to find probs\"))\n",
        "l = [input(f\"Enter word {i} : \") for i in range(0,x)]"
      ]
    },
    {
      "cell_type": "code",
      "execution_count": null,
      "id": "a6603f14",
      "metadata": {
        "id": "a6603f14",
        "outputId": "a7ef2508-d58f-4568-f90a-7bdc72b08d4a"
      },
      "outputs": [
        {
          "name": "stdout",
          "output_type": "stream",
          "text": [
            "End node probability : 0.0049391999999999995\n"
          ]
        }
      ],
      "source": [
        "nodes = []\n",
        "startNode = Dnode(name=\"start\",prev1=None,prev2=None)\n",
        "startNode.calculateValue(hash_bag,None)\n",
        "prevNP,prevVP = None , None\n",
        "for i,val in enumerate(l):\n",
        "    if i == 0:\n",
        "        prevNP = Dnode(name=\"NP\",prev1=startNode,prev2=None)\n",
        "        prevNP.calculateValue(hash_bag,val)\n",
        "        prevVP = Dnode(name=\"VP\",prev1=startNode,prev2=None)\n",
        "        prevVP.calculateValue(hash_bag,val)\n",
        "        nodes.append(prevNP)\n",
        "        nodes.append(prevVP)\n",
        "    else:\n",
        "        a = Dnode(name=\"VP\",prev1=prevNP,prev2=prevVP)\n",
        "        a.calculateValue(hash_bag,val)\n",
        "        b = Dnode(name=\"NP\",prev1=prevNP,prev2=prevVP)\n",
        "        b.calculateValue(hash_bag,val)\n",
        "        prevVP = a\n",
        "        prevNP = b\n",
        "        \n",
        "#     if i == 1:\n",
        "#         print(prevN)\n",
        "endNode = Dnode(\"end\",prevNP,prevVP)\n",
        "endNode.calculateValue(hash_bag,None)\n",
        "\n",
        "print(\"End node probability :\",endNode.state_prob)"
      ]
    },
    {
      "cell_type": "markdown",
      "id": "38445c61",
      "metadata": {
        "id": "38445c61"
      },
      "source": [
        "### BackTracking"
      ]
    },
    {
      "cell_type": "code",
      "execution_count": null,
      "id": "5664699f",
      "metadata": {
        "id": "5664699f",
        "outputId": "7923918b-4403-466f-e6a3-a01bc7b580d5"
      },
      "outputs": [
        {
          "name": "stdout",
          "output_type": "stream",
          "text": [
            "Order : ['start', 'NP', 'NP', 'NP', 'end']\n",
            "Order values : [1, 0.7, 0.19599999999999998, 0.08231999999999999, 0.0049391999999999995]\n"
          ]
        }
      ],
      "source": [
        "a=endNode\n",
        "finalOrder = []\n",
        "finalOrderValues = []\n",
        "while True:\n",
        "    finalOrder.append(a.name)\n",
        "    finalOrderValues.append(a.state_prob)\n",
        "    if a.name == \"start\":\n",
        "        break\n",
        "    else:\n",
        "        a = a.preferred\n",
        "        \n",
        "finalOrder = finalOrder[::-1]\n",
        "finalOrderValues = finalOrderValues[::-1]\n",
        "    \n",
        "print (\"Order :\",finalOrder)\n",
        "print (\"Order values :\",finalOrderValues)"
      ]
    },
    {
      "cell_type": "code",
      "execution_count": null,
      "id": "8ff2857e",
      "metadata": {
        "id": "8ff2857e"
      },
      "outputs": [],
      "source": []
    }
  ],
  "metadata": {
    "kernelspec": {
      "display_name": "Python 3",
      "language": "python",
      "name": "python3"
    },
    "language_info": {
      "codemirror_mode": {
        "name": "ipython",
        "version": 3
      },
      "file_extension": ".py",
      "mimetype": "text/x-python",
      "name": "python",
      "nbconvert_exporter": "python",
      "pygments_lexer": "ipython3",
      "version": "3.8.8"
    },
    "colab": {
      "provenance": []
    }
  },
  "nbformat": 4,
  "nbformat_minor": 5
}