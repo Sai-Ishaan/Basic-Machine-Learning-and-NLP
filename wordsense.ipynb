{
 "cells": [
  {
   "cell_type": "code",
   "execution_count": 10,
   "id": "25fbe930",
   "metadata": {},
   "outputs": [],
   "source": [
    "import pandas as pd\n",
    "import math"
   ]
  },
  {
   "cell_type": "code",
   "execution_count": 11,
   "id": "c4b18c7b",
   "metadata": {},
   "outputs": [
    {
     "name": "stdout",
     "output_type": "stream",
     "text": [
      "enter no.of elements for l1 :4\n",
      "enter item for l1 :chai\n",
      "enter item for l1 :put\n",
      "enter item for l1 :coat\n",
      "enter item for l1 :back\n",
      "enter no.of elements for l2 :3\n",
      "enter item for l2 :chair\n",
      "enter item for l2 :it\n",
      "enter item for l2 :department\n",
      "['furniture', 'chai', 'put', 'coat', 'back']\n",
      "['position', 'chair', 'it', 'department']\n"
     ]
    }
   ],
   "source": [
    "l1=[]\n",
    "l2=[]\n",
    "n=int(input(\"enter no.of elements for l1 :\"))\n",
    "for i in range(n):\n",
    "    item1=input(\"enter item for l1 :\")\n",
    "    l1.append(item1)\n",
    "    \n",
    "m=int(input(\"enter no.of elements for l2 :\"))\n",
    "for i in range(m):\n",
    "    item2=input(\"enter item for l2 :\")\n",
    "    l2.append(item2) \n",
    "l1.insert(0,\"furniture\")\n",
    "l2.insert(0,\"position\")\n",
    "\n",
    "print(l1)\n",
    "print(l2)"
   ]
  },
  {
   "cell_type": "code",
   "execution_count": 12,
   "id": "9b88889c",
   "metadata": {},
   "outputs": [
    {
     "name": "stdout",
     "output_type": "stream",
     "text": [
      "enter no.of elements for l3 :3\n",
      "enter item for l3 :put\n",
      "enter item for l3 :head\n",
      "enter item for l3 :coat\n"
     ]
    }
   ],
   "source": [
    "l3=[]\n",
    "p=int(input(\"enter no.of elements for l3 :\"))\n",
    "for i in range(p):\n",
    "    item3=input(\"enter item for l3 :\")\n",
    "    l3.append(item3) "
   ]
  },
  {
   "cell_type": "code",
   "execution_count": 13,
   "id": "4b10fac1",
   "metadata": {},
   "outputs": [
    {
     "name": "stdout",
     "output_type": "stream",
     "text": [
      "enter |v| value : 12\n"
     ]
    }
   ],
   "source": [
    "v=int(input(\"enter |v| value : \"))"
   ]
  },
  {
   "cell_type": "code",
   "execution_count": 14,
   "id": "3a3667ab",
   "metadata": {},
   "outputs": [
    {
     "name": "stdout",
     "output_type": "stream",
     "text": [
      "[0.5, 0.07142857142857142, 0.5]\n"
     ]
    }
   ],
   "source": [
    "no_of_senses=2\n",
    "count1=[0,0,0]\n",
    "\n",
    "for i in range(len(l1)):\n",
    "    for k in range(len(l3)):\n",
    "        if l1[i]==l3[k]:\n",
    "            count1[k]=count1[k]+1\n",
    "        else:\n",
    "            pass\n",
    "\n",
    "\n",
    "p1=[0,0,0]\n",
    "for i in range(len(l3)):\n",
    "    if count1[i]==0:\n",
    "        p1[i]=(count1[i]+1)/(no_of_senses+v)\n",
    "    else:\n",
    "        p1[i]=(count1[i])/no_of_senses\n",
    "        \n",
    "print(p1)"
   ]
  },
  {
   "cell_type": "code",
   "execution_count": 15,
   "id": "6869152d",
   "metadata": {},
   "outputs": [
    {
     "name": "stdout",
     "output_type": "stream",
     "text": [
      "[0.21428571428571427, 0.07142857142857142, 0.21428571428571427]\n"
     ]
    }
   ],
   "source": [
    "count2=[0,0,0]\n",
    "\n",
    "for i in range(len(l2)):\n",
    "    for k in range(len(l3)):\n",
    "        if l1[i]==l3[k]:\n",
    "            count1[k]=count1[k]+1\n",
    "        else:\n",
    "            pass\n",
    "\n",
    "\n",
    "p2=[0,0,0]\n",
    "for i in range(len(l3)):\n",
    "    if count2[i]==0:\n",
    "        p2[i]=(count1[i]+1)/(no_of_senses+v)\n",
    "    else:\n",
    "        p1[i]=(count1[i])/no_of_senses\n",
    "        \n",
    "print(p2)"
   ]
  },
  {
   "cell_type": "code",
   "execution_count": 16,
   "id": "fc7feb42",
   "metadata": {},
   "outputs": [
    {
     "name": "stdout",
     "output_type": "stream",
     "text": [
      "0.5 0.5\n"
     ]
    }
   ],
   "source": [
    "p_fur=1/2\n",
    "p_pos=1/2\n",
    "print(p_fur,p_pos)"
   ]
  },
  {
   "cell_type": "code",
   "execution_count": 17,
   "id": "6f7281a1",
   "metadata": {},
   "outputs": [
    {
     "name": "stdout",
     "output_type": "stream",
     "text": [
      "-1.0 -1.0\n"
     ]
    }
   ],
   "source": [
    "score_fur=math.log(2,p_fur)\n",
    "score_pos=math.log(2,p_pos)\n",
    "print(score_fur,score_pos)"
   ]
  },
  {
   "cell_type": "code",
   "execution_count": 18,
   "id": "0dc49390",
   "metadata": {},
   "outputs": [
    {
     "name": "stdout",
     "output_type": "stream",
     "text": [
      "score w.r.t furniture :  -3.2626495350371933\n",
      "score w.r.t position :  -2.1625806096748983\n"
     ]
    }
   ],
   "source": [
    "fscore_fur=score_fur+math.log(2,p1[0])+math.log(2,p1[1])+math.log(2,p1[2])\n",
    "fscore_pos=score_pos+math.log(2,p2[0])+math.log(2,p2[1])+math.log(2,p2[2])\n",
    "print(\"score w.r.t furniture : \",fscore_fur)\n",
    "print(\"score w.r.t position : \",fscore_pos)"
   ]
  },
  {
   "cell_type": "code",
   "execution_count": 19,
   "id": "3641f70f",
   "metadata": {},
   "outputs": [
    {
     "name": "stdout",
     "output_type": "stream",
     "text": [
      "position\n"
     ]
    }
   ],
   "source": [
    "if fscore_fur>fscore_pos :\n",
    "    print(\"furniture\")\n",
    "else:\n",
    "    print(\"position\")"
   ]
  },
  {
   "cell_type": "code",
   "execution_count": null,
   "id": "d01bd980",
   "metadata": {},
   "outputs": [],
   "source": []
  },
  {
   "cell_type": "code",
   "execution_count": null,
   "id": "14796038",
   "metadata": {},
   "outputs": [],
   "source": []
  },
  {
   "cell_type": "code",
   "execution_count": null,
   "id": "ae205e97",
   "metadata": {},
   "outputs": [],
   "source": []
  }
 ],
 "metadata": {
  "kernelspec": {
   "display_name": "Python 3",
   "language": "python",
   "name": "python3"
  },
  "language_info": {
   "codemirror_mode": {
    "name": "ipython",
    "version": 3
   },
   "file_extension": ".py",
   "mimetype": "text/x-python",
   "name": "python",
   "nbconvert_exporter": "python",
   "pygments_lexer": "ipython3",
   "version": "3.8.8"
  }
 },
 "nbformat": 4,
 "nbformat_minor": 5
}
